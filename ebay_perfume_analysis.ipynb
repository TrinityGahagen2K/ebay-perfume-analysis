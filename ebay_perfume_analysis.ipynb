{
 "cells": [
  {
   "cell_type": "markdown",
   "metadata": {},
   "source": [
    "# Phase 1 Project: Ebay Perfume Analysis\n",
    "## Authored by Trinity Gahagen"
   ]
  },
  {
   "cell_type": "code",
   "execution_count": 1,
   "metadata": {},
   "outputs": [],
   "source": [
    "# Import necessary modules\n",
    "import pandas as pd\n",
    "import numpy as np\n",
    "import matplotlib.pyplot as plt\n",
    "import seaborn as sns"
   ]
  },
  {
   "cell_type": "code",
   "execution_count": 2,
   "metadata": {},
   "outputs": [],
   "source": [
    "mens_perfume = pd.read_csv('ebay_mens_perfume.csv')\n",
    "womens_perfume = pd.read_csv('ebay_womens_perfume.csv')"
   ]
  },
  {
   "cell_type": "code",
   "execution_count": 4,
   "metadata": {},
   "outputs": [
    {
     "data": {
      "text/html": [
       "<div>\n",
       "<style scoped>\n",
       "    .dataframe tbody tr th:only-of-type {\n",
       "        vertical-align: middle;\n",
       "    }\n",
       "\n",
       "    .dataframe tbody tr th {\n",
       "        vertical-align: top;\n",
       "    }\n",
       "\n",
       "    .dataframe thead th {\n",
       "        text-align: right;\n",
       "    }\n",
       "</style>\n",
       "<table border=\"1\" class=\"dataframe\">\n",
       "  <thead>\n",
       "    <tr style=\"text-align: right;\">\n",
       "      <th></th>\n",
       "      <th>brand</th>\n",
       "      <th>title</th>\n",
       "      <th>type</th>\n",
       "      <th>price</th>\n",
       "      <th>priceWithCurrency</th>\n",
       "      <th>available</th>\n",
       "      <th>availableText</th>\n",
       "      <th>sold</th>\n",
       "      <th>lastUpdated</th>\n",
       "      <th>itemLocation</th>\n",
       "    </tr>\n",
       "  </thead>\n",
       "  <tbody>\n",
       "    <tr>\n",
       "      <th>0</th>\n",
       "      <td>Dior</td>\n",
       "      <td>Christian Dior Sauvage Men's EDP 3.4 oz Fragra...</td>\n",
       "      <td>Eau de Parfum</td>\n",
       "      <td>84.99</td>\n",
       "      <td>US $84.99/ea</td>\n",
       "      <td>10.0</td>\n",
       "      <td>More than 10 available / 116 sold</td>\n",
       "      <td>116.0</td>\n",
       "      <td>May 24, 2024 10:03:04 PDT</td>\n",
       "      <td>Allen Park, Michigan, United States</td>\n",
       "    </tr>\n",
       "    <tr>\n",
       "      <th>1</th>\n",
       "      <td>AS SHOW</td>\n",
       "      <td>A-v-entus Eau de Parfum 3.3 oz 100ML Millesime...</td>\n",
       "      <td>Eau de Parfum</td>\n",
       "      <td>109.99</td>\n",
       "      <td>US $109.99</td>\n",
       "      <td>8.0</td>\n",
       "      <td>8 available / 48 sold</td>\n",
       "      <td>48.0</td>\n",
       "      <td>May 23, 2024 23:07:49 PDT</td>\n",
       "      <td>Atlanta, Georgia, Canada</td>\n",
       "    </tr>\n",
       "    <tr>\n",
       "      <th>2</th>\n",
       "      <td>Unbranded</td>\n",
       "      <td>HOGO BOSS cologne For Men 3.4 oz</td>\n",
       "      <td>Eau de Toilette</td>\n",
       "      <td>100.00</td>\n",
       "      <td>US $100.00</td>\n",
       "      <td>10.0</td>\n",
       "      <td>More than 10 available / 27 sold</td>\n",
       "      <td>27.0</td>\n",
       "      <td>May 22, 2024 21:55:43 PDT</td>\n",
       "      <td>Dearborn, Michigan, United States</td>\n",
       "    </tr>\n",
       "    <tr>\n",
       "      <th>3</th>\n",
       "      <td>Giorgio Armani</td>\n",
       "      <td>Acqua Di Gio by Giorgio Armani 6.7 Fl oz Eau D...</td>\n",
       "      <td>Eau de Toilette</td>\n",
       "      <td>44.99</td>\n",
       "      <td>US $44.99/ea</td>\n",
       "      <td>2.0</td>\n",
       "      <td>2 available / 159 sold</td>\n",
       "      <td>159.0</td>\n",
       "      <td>May 24, 2024 03:30:43 PDT</td>\n",
       "      <td>Reinholds, Pennsylvania, United States</td>\n",
       "    </tr>\n",
       "    <tr>\n",
       "      <th>4</th>\n",
       "      <td>Lattafa</td>\n",
       "      <td>Lattafa Men's Hayaati Al Maleky EDP Spray 3.4 ...</td>\n",
       "      <td>Fragrances</td>\n",
       "      <td>16.91</td>\n",
       "      <td>US $16.91</td>\n",
       "      <td>NaN</td>\n",
       "      <td>Limited quantity available / 156 sold</td>\n",
       "      <td>156.0</td>\n",
       "      <td>May 24, 2024 07:56:25 PDT</td>\n",
       "      <td>Brooklyn, New York, United States</td>\n",
       "    </tr>\n",
       "  </tbody>\n",
       "</table>\n",
       "</div>"
      ],
      "text/plain": [
       "            brand                                              title  \\\n",
       "0            Dior  Christian Dior Sauvage Men's EDP 3.4 oz Fragra...   \n",
       "1         AS SHOW  A-v-entus Eau de Parfum 3.3 oz 100ML Millesime...   \n",
       "2       Unbranded                   HOGO BOSS cologne For Men 3.4 oz   \n",
       "3  Giorgio Armani  Acqua Di Gio by Giorgio Armani 6.7 Fl oz Eau D...   \n",
       "4         Lattafa  Lattafa Men's Hayaati Al Maleky EDP Spray 3.4 ...   \n",
       "\n",
       "              type   price priceWithCurrency  available  \\\n",
       "0    Eau de Parfum   84.99      US $84.99/ea       10.0   \n",
       "1    Eau de Parfum  109.99        US $109.99        8.0   \n",
       "2  Eau de Toilette  100.00        US $100.00       10.0   \n",
       "3  Eau de Toilette   44.99      US $44.99/ea        2.0   \n",
       "4       Fragrances   16.91         US $16.91        NaN   \n",
       "\n",
       "                           availableText   sold                lastUpdated  \\\n",
       "0      More than 10 available / 116 sold  116.0  May 24, 2024 10:03:04 PDT   \n",
       "1                  8 available / 48 sold   48.0  May 23, 2024 23:07:49 PDT   \n",
       "2       More than 10 available / 27 sold   27.0  May 22, 2024 21:55:43 PDT   \n",
       "3                 2 available / 159 sold  159.0  May 24, 2024 03:30:43 PDT   \n",
       "4  Limited quantity available / 156 sold  156.0  May 24, 2024 07:56:25 PDT   \n",
       "\n",
       "                             itemLocation  \n",
       "0     Allen Park, Michigan, United States  \n",
       "1                Atlanta, Georgia, Canada  \n",
       "2       Dearborn, Michigan, United States  \n",
       "3  Reinholds, Pennsylvania, United States  \n",
       "4       Brooklyn, New York, United States  "
      ]
     },
     "execution_count": 4,
     "metadata": {},
     "output_type": "execute_result"
    }
   ],
   "source": [
    "mens_perfume.head()"
   ]
  },
  {
   "cell_type": "code",
   "execution_count": 5,
   "metadata": {},
   "outputs": [
    {
     "data": {
      "text/html": [
       "<div>\n",
       "<style scoped>\n",
       "    .dataframe tbody tr th:only-of-type {\n",
       "        vertical-align: middle;\n",
       "    }\n",
       "\n",
       "    .dataframe tbody tr th {\n",
       "        vertical-align: top;\n",
       "    }\n",
       "\n",
       "    .dataframe thead th {\n",
       "        text-align: right;\n",
       "    }\n",
       "</style>\n",
       "<table border=\"1\" class=\"dataframe\">\n",
       "  <thead>\n",
       "    <tr style=\"text-align: right;\">\n",
       "      <th></th>\n",
       "      <th>brand</th>\n",
       "      <th>title</th>\n",
       "      <th>type</th>\n",
       "      <th>price</th>\n",
       "      <th>priceWithCurrency</th>\n",
       "      <th>available</th>\n",
       "      <th>availableText</th>\n",
       "      <th>sold</th>\n",
       "      <th>lastUpdated</th>\n",
       "      <th>itemLocation</th>\n",
       "    </tr>\n",
       "  </thead>\n",
       "  <tbody>\n",
       "    <tr>\n",
       "      <th>0</th>\n",
       "      <td>Carolina Herrera</td>\n",
       "      <td>Good Girl by Carolina Herrera 2.7 oz Eau De Pa...</td>\n",
       "      <td>Eau de Parfum</td>\n",
       "      <td>43.99</td>\n",
       "      <td>US $43.99/ea</td>\n",
       "      <td>2.0</td>\n",
       "      <td>2 available / 393 sold</td>\n",
       "      <td>393.0</td>\n",
       "      <td>May 23, 2024 10:43:50 PDT</td>\n",
       "      <td>Thomasville, Alabama, United States</td>\n",
       "    </tr>\n",
       "    <tr>\n",
       "      <th>1</th>\n",
       "      <td>As Shown</td>\n",
       "      <td>Parfums de Marly Delina La Rosee Eau de Parfum...</td>\n",
       "      <td>Eau de Parfum</td>\n",
       "      <td>79.99</td>\n",
       "      <td>US $79.99</td>\n",
       "      <td>5.0</td>\n",
       "      <td>5 available / 40 sold</td>\n",
       "      <td>40.0</td>\n",
       "      <td>May 24, 2024 00:15:48 PDT</td>\n",
       "      <td>New Jersey, Hong Kong</td>\n",
       "    </tr>\n",
       "    <tr>\n",
       "      <th>2</th>\n",
       "      <td>PRADA</td>\n",
       "      <td>PRADA Paradoxe by Prada EDP 3.0oz/90ml Spray P...</td>\n",
       "      <td>Eau de Parfum</td>\n",
       "      <td>59.99</td>\n",
       "      <td>US $59.99</td>\n",
       "      <td>10.0</td>\n",
       "      <td>More than 10 available / 35 sold</td>\n",
       "      <td>35.0</td>\n",
       "      <td>May 14, 2024 20:54:25 PDT</td>\n",
       "      <td>Orange, New Jersey, United States</td>\n",
       "    </tr>\n",
       "    <tr>\n",
       "      <th>3</th>\n",
       "      <td>As Show</td>\n",
       "      <td>J'adore Parfum D'eau by Christian 3.4 oz EDP F...</td>\n",
       "      <td>Eau de Parfum</td>\n",
       "      <td>59.99</td>\n",
       "      <td>US $59.99/ea</td>\n",
       "      <td>10.0</td>\n",
       "      <td>More than 10 available / 9 sold</td>\n",
       "      <td>9.0</td>\n",
       "      <td>May 23, 2024 01:23:05 PDT</td>\n",
       "      <td>USA, New Jersey, Hong Kong</td>\n",
       "    </tr>\n",
       "    <tr>\n",
       "      <th>4</th>\n",
       "      <td>Khadlaj</td>\n",
       "      <td>Shiyaaka for Men EDP Spray 100ML (3.4 FL.OZ) B...</td>\n",
       "      <td>Eau de Parfum</td>\n",
       "      <td>29.99</td>\n",
       "      <td>US $29.99/ea</td>\n",
       "      <td>10.0</td>\n",
       "      <td>More than 10 available</td>\n",
       "      <td>NaN</td>\n",
       "      <td>NaN</td>\n",
       "      <td>Little Ferry, New Jersey, United States</td>\n",
       "    </tr>\n",
       "  </tbody>\n",
       "</table>\n",
       "</div>"
      ],
      "text/plain": [
       "              brand                                              title  \\\n",
       "0  Carolina Herrera  Good Girl by Carolina Herrera 2.7 oz Eau De Pa...   \n",
       "1          As Shown  Parfums de Marly Delina La Rosee Eau de Parfum...   \n",
       "2             PRADA  PRADA Paradoxe by Prada EDP 3.0oz/90ml Spray P...   \n",
       "3           As Show  J'adore Parfum D'eau by Christian 3.4 oz EDP F...   \n",
       "4           Khadlaj  Shiyaaka for Men EDP Spray 100ML (3.4 FL.OZ) B...   \n",
       "\n",
       "            type  price priceWithCurrency  available  \\\n",
       "0  Eau de Parfum  43.99      US $43.99/ea        2.0   \n",
       "1  Eau de Parfum  79.99         US $79.99        5.0   \n",
       "2  Eau de Parfum  59.99         US $59.99       10.0   \n",
       "3  Eau de Parfum  59.99      US $59.99/ea       10.0   \n",
       "4  Eau de Parfum  29.99      US $29.99/ea       10.0   \n",
       "\n",
       "                      availableText   sold                lastUpdated  \\\n",
       "0            2 available / 393 sold  393.0  May 23, 2024 10:43:50 PDT   \n",
       "1             5 available / 40 sold   40.0  May 24, 2024 00:15:48 PDT   \n",
       "2  More than 10 available / 35 sold   35.0  May 14, 2024 20:54:25 PDT   \n",
       "3   More than 10 available / 9 sold    9.0  May 23, 2024 01:23:05 PDT   \n",
       "4            More than 10 available    NaN                        NaN   \n",
       "\n",
       "                              itemLocation  \n",
       "0      Thomasville, Alabama, United States  \n",
       "1                    New Jersey, Hong Kong  \n",
       "2        Orange, New Jersey, United States  \n",
       "3               USA, New Jersey, Hong Kong  \n",
       "4  Little Ferry, New Jersey, United States  "
      ]
     },
     "execution_count": 5,
     "metadata": {},
     "output_type": "execute_result"
    }
   ],
   "source": [
    "womens_perfume.head()"
   ]
  },
  {
   "cell_type": "code",
   "execution_count": null,
   "metadata": {},
   "outputs": [],
   "source": [
    "mens_perfume['forMen'] = mens_perfume[]"
   ]
  },
  {
   "cell_type": "code",
   "execution_count": 7,
   "metadata": {},
   "outputs": [],
   "source": [
    "perfumes = pd.concat([mens_perfume, womens_perfume], ignore_index=True)"
   ]
  },
  {
   "cell_type": "code",
   "execution_count": 8,
   "metadata": {},
   "outputs": [
    {
     "name": "stdout",
     "output_type": "stream",
     "text": [
      "<class 'pandas.core.frame.DataFrame'>\n",
      "RangeIndex: 2000 entries, 0 to 1999\n",
      "Data columns (total 10 columns):\n",
      " #   Column             Non-Null Count  Dtype  \n",
      "---  ------             --------------  -----  \n",
      " 0   brand              1998 non-null   object \n",
      " 1   title              2000 non-null   object \n",
      " 2   type               1995 non-null   object \n",
      " 3   price              2000 non-null   float64\n",
      " 4   priceWithCurrency  2000 non-null   object \n",
      " 5   available          1758 non-null   float64\n",
      " 6   availableText      1989 non-null   object \n",
      " 7   sold               1978 non-null   float64\n",
      " 8   lastUpdated        1874 non-null   object \n",
      " 9   itemLocation       2000 non-null   object \n",
      "dtypes: float64(3), object(7)\n",
      "memory usage: 156.4+ KB\n"
     ]
    }
   ],
   "source": [
    "perfumes.info()"
   ]
  },
  {
   "cell_type": "code",
   "execution_count": 19,
   "metadata": {},
   "outputs": [
    {
     "data": {
      "text/plain": [
       "-998"
      ]
     },
     "execution_count": 19,
     "metadata": {},
     "output_type": "execute_result"
    }
   ],
   "source": [
    "mens_perfume['priceWithCurrency'].str.contains('US').sum()"
   ]
  },
  {
   "cell_type": "code",
   "execution_count": null,
   "metadata": {},
   "outputs": [],
   "source": []
  }
 ],
 "metadata": {
  "kernelspec": {
   "display_name": "Python (learn-env)",
   "language": "python",
   "name": "learn-env"
  },
  "language_info": {
   "codemirror_mode": {
    "name": "ipython",
    "version": 3
   },
   "file_extension": ".py",
   "mimetype": "text/x-python",
   "name": "python",
   "nbconvert_exporter": "python",
   "pygments_lexer": "ipython3",
   "version": "3.8.5"
  }
 },
 "nbformat": 4,
 "nbformat_minor": 4
}
